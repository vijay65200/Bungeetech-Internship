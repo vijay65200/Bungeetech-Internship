{
  "nbformat": 4,
  "nbformat_minor": 0,
  "metadata": {
    "colab": {
      "name": "Assignment.ipynb",
      "provenance": []
    },
    "kernelspec": {
      "name": "python3",
      "display_name": "Python 3"
    },
    "language_info": {
      "name": "python"
    }
  },
  "cells": [
    {
      "cell_type": "code",
      "metadata": {
        "colab": {
          "base_uri": "https://localhost:8080/"
        },
        "id": "vTHh0L0B9uoP",
        "outputId": "e153efa7-bad9-4676-d7db-212005ed57e1"
      },
      "source": [
        "import pandas as pd\n",
        "\n",
        "df = pd.read_csv (\"/content/drive/MyDrive/Colab Notebooks/main (1).csv\")\n",
        "print(df)"
      ],
      "execution_count": 7,
      "outputs": [
        {
          "output_type": "stream",
          "text": [
            "         SKU  ...      COUNTRY\n",
            "0      11331  ...  Switzerland\n",
            "1      11331  ...    Hong Kong\n",
            "2      11331  ...     USA (CA)\n",
            "3      11331  ...    Hong Kong\n",
            "4      11331  ...        Italy\n",
            "...      ...  ...          ...\n",
            "11191  11625  ...     USA (NY)\n",
            "11192  11625  ...           UK\n",
            "11193  11625  ...           UK\n",
            "11194  11625  ...     USA (CA)\n",
            "11195  11625  ...           UK\n",
            "\n",
            "[11196 rows x 9 columns]\n"
          ],
          "name": "stdout"
        }
      ]
    },
    {
      "cell_type": "code",
      "metadata": {
        "id": "EI8SbQAF_WoF"
      },
      "source": [
        "import pandas as pd\n",
        "import os\n",
        "\n",
        "# Locating required file paths\n",
        "BASE_PATH = os.path.dirname(os.path.abspath(__file__))\n",
        "INPUT_PATH = os.path.join(BASE_PATH, '/content/drive/MyDrive/Colab Notebooks/main (1).csv')\n",
        "OUTPUT_PATH_PRICE = os.path.join(BASE_PATH, 'output/lowestPrice.csv')\n",
        "\n",
        "\n",
        "# Checking input file exists and read data\n",
        "def fetch_input_data(path):\n",
        "    if os.path.exists(path):\n",
        "        return pd.read_csv(path)\n",
        "    else:\n",
        "        print(f'File: {path} not found!', 'exiting...')\n",
        "        exit()\n",
        "\n",
        "\n",
        "# Cleaning price data\n",
        "def clean_data(item):\n",
        "    if item[0] == \"$\":\n",
        "        item = item[1:].replace(',', '')\n",
        "    if item[-1] == \"?\":\n",
        "        item = item[:-1].replace(',', '')\n",
        "\n",
        "    # Checking if decimal value available\n",
        "    float_data = float(item)\n",
        "    if (float_data / int(float_data)) == 1.0:\n",
        "        return int(float_data)\n",
        "    else:\n",
        "        return float_data\n",
        "\n",
        "# Function to find last 2 minimum price\n",
        "def filter_price(file_path):\n",
        "    input_df = fetch_input_data(file_path)\n",
        "\n",
        "    # Creating new dataframe\n",
        "    price_data = pd.DataFrame(columns=[\n",
        "        'SKU',\n",
        "        'FIRST_MINIMUM_PRICE',\n",
        "        'SECOND_MINIMUM_PRICE'])\n",
        "\n",
        "    grouped_df = input_df.groupby(\"SKU\")    # Grouping data by SKU\n",
        "    for item in grouped_df:\n",
        "        clean_price = map(clean_data, item[1].PRICE)\n",
        "        sorted_price = sorted(clean_price)\n",
        "\n",
        "        if len(sorted_price) == 1:\n",
        "            continue\n",
        "        else:\n",
        "            first_min, second_min = sorted_price[0:2]\n",
        "\n",
        "        price_data = price_data.append(\n",
        "            {'SKU': item[0],\n",
        "             'FIRST_MINIMUM_PRICE': first_min,\n",
        "             'SECOND_MINIMUM_PRICE': second_min\n",
        "             },\n",
        "            ignore_index=True)\n",
        "\n",
        "    return price_data\n",
        "\n",
        "\n",
        "# Filter rows by price\n",
        "price_df = filter_price(OUTPUT_PATH_FILTERED)\n",
        "price_df.to_csv(OUTPUT_PATH_PRICE, index=False)  "
      ],
      "execution_count": null,
      "outputs": []
    },
    {
      "cell_type": "code",
      "metadata": {
        "id": "B4fAcKXcAjeW"
      },
      "source": [
        ""
      ],
      "execution_count": null,
      "outputs": []
    }
  ]
}